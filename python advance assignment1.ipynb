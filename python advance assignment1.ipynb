{
 "cells": [
  {
   "cell_type": "code",
   "execution_count": null,
   "id": "cbb4d81e",
   "metadata": {},
   "outputs": [],
   "source": [
    "Q1. What is the purpose of Python's OOP?\n",
    "\n",
    "The purpose of OOP is to bind the data and the functions that work on that together as a single entity.It uses classes and \n",
    "objects to implement real world entities like inheritance,encapsulation,polymorphism,abstraction etc."
   ]
  },
  {
   "cell_type": "code",
   "execution_count": null,
   "id": "26de1534",
   "metadata": {},
   "outputs": [],
   "source": [
    "Q2. Where does an inheritance search look for an attribute?\n",
    "\n",
    "Method Resolution Order is the order by which python looks for an attribute or method.\n",
    "it first searches in the object's class and then in the order we specified while inheriting."
   ]
  },
  {
   "cell_type": "code",
   "execution_count": null,
   "id": "eb7945a7",
   "metadata": {},
   "outputs": [],
   "source": [
    "Q3. How do you distinguish between a class object and an instance object?\n",
    "\n",
    "class object is a object created inside the class but outside of any instance method or __init__() method and it is shared by \n",
    "all objects of a class\n",
    "instance object is defined with the help of constructor that is __init__() method and it is not shared by object.every object \n",
    "has its unique values"
   ]
  },
  {
   "cell_type": "code",
   "execution_count": null,
   "id": "384c9c74",
   "metadata": {},
   "outputs": [],
   "source": [
    "Q4. What makes the first argument in a class’s method function special?\n",
    "\n",
    "The first argument represents the current instance of the class.By using the first parameter we can access the attributes and \n",
    "methods of the class.It binds the attributes with the given arguments."
   ]
  },
  {
   "cell_type": "code",
   "execution_count": null,
   "id": "91d42fc5",
   "metadata": {},
   "outputs": [],
   "source": [
    "Q5. What is the purpose of the __init__ method?\n",
    "\n",
    "__init__ is a constructor in python.\n",
    "the purpose of __init__ method is to initialize the object and the properties that all objects must have are degined in this\n",
    "method."
   ]
  },
  {
   "cell_type": "code",
   "execution_count": null,
   "id": "b62b06ce",
   "metadata": {},
   "outputs": [],
   "source": [
    "Q6. What is the process for creating a class instance?\n",
    "\n",
    "using the __init__ method we can create a constructor to initialize the object\n",
    "SYNTAX\n",
    "<object_name>=<class_name>(arguments)"
   ]
  },
  {
   "cell_type": "code",
   "execution_count": null,
   "id": "1295b12e",
   "metadata": {},
   "outputs": [],
   "source": [
    "Q7. What is the process for creating a class?\n",
    "\n",
    "class can be created by using the keyword class\n",
    "SYNTAX: \n",
    "class classname:\n",
    "    #attributes and methods"
   ]
  },
  {
   "cell_type": "code",
   "execution_count": null,
   "id": "8c071a82",
   "metadata": {},
   "outputs": [],
   "source": [
    "Q8. How would you define the superclasses of a class?\n",
    "\n",
    "The class from which other classes are derived are called as base classes or super classes\n"
   ]
  }
 ],
 "metadata": {
  "kernelspec": {
   "display_name": "Python 3 (ipykernel)",
   "language": "python",
   "name": "python3"
  },
  "language_info": {
   "codemirror_mode": {
    "name": "ipython",
    "version": 3
   },
   "file_extension": ".py",
   "mimetype": "text/x-python",
   "name": "python",
   "nbconvert_exporter": "python",
   "pygments_lexer": "ipython3",
   "version": "3.10.9"
  }
 },
 "nbformat": 4,
 "nbformat_minor": 5
}
